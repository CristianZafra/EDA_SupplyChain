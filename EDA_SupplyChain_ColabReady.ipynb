{
 "celdas": [
  {
 "cell_type": "marcar hacia abajo",
 "metadatos": {
 "identificación": "7QJVQznafWCN"
 },
 "fuente": [
 „#**Cargar bibliotecas**"
   ]
 },
  {
 "cell_type": "código",
 "execution_count": nulo,
 "metadatos": {
 „ejecución": {
 "iopub.execute_input": "2023-05-20T16:13:50.859096Z",
 "iopub.status.busy": "2023-05-20T16:13:50.858652Z",
 "iopub.status.idle": "2023-05-20T16:13:50.866359Z",
 "shell.execute_reply": "2023-05-20T16:13:50.865011Z",
 "shell.execute_reply.started": "2023-05-20T16:13:50.85906Z"
 },
 "informacion de ejecución": {
 "eliminado": 814,
 "estado": "ok",
 „marca de tiempo": 1684558515751,
 "usuario": {
 "displayName": "BRYAM BLAS RIMAC",
 "id de usuario": "11285878755326233372"
 },
 "usuario_tz": 300
 },
 "id": "w_Evs5w4zwj0"
 },
 „salidas": [],
 "fuente": [
 "# Tratamiento y manipulación de datos\n",
 "importar pandas como pd\n",
 "importar numpy como np\n",
 "pd.set_option(\"display.max_columns\", Ninguno)\n",
 "\n",
 "# Visualización de datos\n",
 "importar matplotlib.pyplot como plt\n",
 "importar seaborn como sns\n",
 "importar plotly.express como px\n",
 "importar plotly.graph_objects como go\n",
 "desde plotly.subplots importa make_subplots\n",
 "\n",
 "# Advertencias\n",
 "importar advertencias\n",
 "warnings.filterwarnings(\"ignorar\")"
   ]
 },
  {
 "cell_type": "marcar hacia abajo",
 "metadatos": {
 "id": "tgEO-z85fQ4o"
 },
 "fuente": [
 „#**Datos de carga**"
   ]
 },
  {
 "cell_type": "marcar hacia abajo",
 "id": "e4d3e453",
 "metadatos": {},
 "fuente": [
 "## 📂 Cargar datos desde tu equipo (Google Colab)"
   ]
 },
  {
 "cell_type": "código",
 "execution_count": nulo,
 "id": "64f4dfcf",
 "metadatos": {},
 „salidas": [],
 "fuente": 
 "# Subir archivo CSV desde tu equipo\n",
 "desde google.colab importar archivos\n",
 "importar io\n",
 "\n",
 "cargó archivos =.upload()\n",
 "\n",
 "# Leer el primer archivo subido\n",
 "para nombre de archivo en uploaded.keys():\n",
 "data = pd.read_csv(io.BytesIO(uploaded[nombre de archivo]))\n",
 "romper\n",
 "\n",
 "# Vista previa\n",
 "data.head()"
   ]
 },
  {
 "cell_type": "código",
 "execution_count": nulo,
 "metadatos": {
 „ejecución": {
 "iopub.execute_input": "2023-05-20T16:13:50.914621Z",
 "iopub.status.busy": "2023-05-20T16:13:50.914056Z",
 "iopub.status.idle": "2023-05-20T16:13:50.919984Z",
 "shell.execute_reply": "2023-05-20T16:13:50.919004Z",
 "shell.execute_reply.started": "2023-05-20T16:13:50.914576Z"
 },
 "informacion de ejecución": {
 "eliminado": 302,
 "estado": "ok",
 „marca de tiempo": 1684558525463,
 "usuario": {
 "displayName": "BRYAM BLAS RIMAC",
 "id de usuario": "11285878755326233372"
 },
 "usuario_tz": 300
 },
 "id": "INSvOZb61C2N",
 "outputId": "1f6ecdbd-9a0e-4b33-8e53-b4210e0a0ea8"
 },
 „salidas": [],
 "fuente": [
 "print(f\"El conjunto de datos tiene {data.shape[0]} filas y {data.shape[1]} columnas\")"
   ]
 },
  {
 "cell_type": "código",
 "execution_count": nulo,
 "metadatos": {
 „ejecución": {
 "iopub.execute_input": "2023-05-20T16:13:50.921496Z",
 "iopub.status.busy": "2023-05-20T16:13:50.921181Z",
 "iopub.status.idle": "2023-05-20T16:13:50.949748Z",
 "shell.execute_reply": "2023-05-20T16:13:50.948546Z",
 "shell.execute_reply.started": "2023-05-20T16:13:50.921441Z"
 },
 "información de ejecución": {
 "eliminado": 3,
 "estado": "ok",
 „marca de tiempo": 1684558526649,
 "usuario": {
 "displayName": "BRYAM BLAS RIMAC",
 "id de usuario": "11285878755326233372"
 },
 "usuario_tz": 300
 },
 "id": "4IEAcL1Z1MGH",
 "id de salida": "bcce3c48-0732-49d6-fa71-a4f7fbd40512"
 },
 „salidas": [],
 "fuente": [
 "print(\"---------------------Informacion establecida de datos-------\")\n",
 "print(data.info())"
   ]
 },
  {
 "cell_type": "código",
 "execution_count": nulo,
 "metadatos": {
 „ejecución": {
 "iopub.execute_input": "2023-05-20T16:13:50.9526Z",
 "iopub.status.busy": "2023-05-20T16:13:50.952245Z",
 "iopub.status.idle": "2023-05-20T16:13:50.962874Z",
 "shell.execute_reply": "2023-05-20T16:13:50.96176Z",
 "shell.execute_reply.started": "2023-05-20T16:13:50.952569Z"
 },
 "información de ejecución": {
 "eliminado": 311,
 "estado": "ok",
 „marca de tiempo": 1684558534663,
 "usuario": {
 "displayName": "BRYAM BLAS RIMAC",
 "id de usuario": "11285878755326233372"
 },
 "usuario_tz": 300
 },
 "id": "SjwPQWOW6enP",
 "outputId": "c1721fa9-3235-4274-e50c-cefcc2e75c93"
 },
 „salidas": [],
 "fuente": [
 "# Compruebe si hay filas duplicadas\n",
 "data.duplicated().sum()"
   ]
 },
  {
 "cell_type": "código",
 "execution_count": nulo,
 "metadatos": {
 „ejecución": {
 "iopub.execute_input": "2023-05-20T16:13:50.965562Z",
 "iopub.status.busy": "2023-05-20T16:13:50.964674Z",
 "iopub.status.idle": "2023-05-20T16:13:50.974811Z",
 "shell.execute_reply": "2023-05-20T16:13:50.973591Z",
 "shell.execute_reply.started": "2023-05-20T16:13:50.965517Z"
 },
 "información de ejecución": {
 "eliminado": 330,
 "estado": "ok",
 „marca de tiempo": 1684558538176,
 "usuario": {
 "displayName": "BRYAM BLAS RIMAC",
 "id de usuario": "11285878755326233372"
 },
 "usuario_tz": 300
 },
 "id": "btpgqbZl2Ey_",
 "outputId": "103d5682-e3b7-47dd-866b-039423440002"
 },
 „salidas": [],
 "fuente": [
 "# Configurar el nombre de las columnas, agregaremos un '_' entre los espacios.\n",
 "data.columns = data.columns.str.replace(' ','_')\n",
 "columnas.dedatos"
   ]
 },
  {
 "cell_type": "código",
 "execution_count": nulo,
 "metadatos": {
 „ejecución": {
 "iopub.execute_input": "2023-05-20T16:13:50.977481Z",
 "iopub.status.busy": "2023-05-20T16:13:50.976327Z",
 "iopub.status.idle": "2023-05-20T16:13:50.985307Z",
 "shell.execute_reply": "2023-05-20T16:13:50.984295Z",
 "shell.execute_reply.started": "2023-05-20T16:13:50.977423Z"
 },
 "informacion de ejecución": {
 "eliminado": 317,
 "estado": "ok",
 „marca de tiempo": 1684558540308,
 "usuario": {
 "displayName": "BRYAM BLAS RIMAC",
 "id de usuario": "11285878755326233372"
 },
 "usuario_tz": 300
 },
 "id": "OoPKmx2p4LYx"
 },
 „salidas": [],
 "fuente": [
 "# Separamos nuestro conjunto de variables en continuo y categórico\n",
 "\n",
 "continuos_vars = ['Precio','Disponibilidad','Number_of_products_sold', \n",
 "'Ingresos_generados','Stock_levels','Lead_times', 'Order_quantities', \n",
 "'Shipping_times','Shipping_costs', 'Lead_time', 'Production_volumes', \n",
 "'Manufacturing_lead_time', 'Manufacturing_costs', 'Defect_rates', 'Costs']\n",
 "\n",
 "categorical_vars = ['Product_type', 'SKU', 'Customer_demographics', 'Shipping_carriers', \n",
 "'Nombre_proveedor', 'Ubicación', 'Resultados_Inspección', 'Modos_Transporte', 'Rutas']"
   ]
 },
  {
 "cell_type": "marcar hacia abajo",
 "metadatos": {
 "id": "1ER0NVni7GfE"
 },
 "fuente": [
 „# **Analiza univariată**"
   ]
 },
  {
 "cell_type": "marcar hacia abajo",
 "metadatos": {
 "id": "50KMtXR9A9Wt"
 },
   "source": [
    "- Continuous variables"
   ]
  },
  {
   "cell_type": "code",
   "execution_count": null,
   "metadata": {
    "execution": {
     "iopub.execute_input": "2023-05-20T16:13:50.987024Z",
     "iopub.status.busy": "2023-05-20T16:13:50.986702Z",
     "iopub.status.idle": "2023-05-20T16:13:50.999114Z",
     "shell.execute_reply": "2023-05-20T16:13:50.998245Z",
     "shell.execute_reply.started": "2023-05-20T16:13:50.986994Z"
    },
    "executionInfo": {
     "elapsed": 399,
     "status": "ok",
     "timestamp": 1684558592928,
     "user": {
      "displayName": "BRYAM BLAS RIMAC",
      "userId": "11285878755326233372"
     },
     "user_tz": 300
    },
    "id": "i5rNNyXYOzPy"
   },
   "outputs": [],
   "source": [
    "# We create a function to plot a histogram and a probability distribution\n",
    "#================================================================================================\n",
    "def hist_dist_plot(name:str):\n",
    "\n",
    "    # Plot the Histogram\n",
    "    fig1 = px.histogram(data, x=name, marginal=\"box\", # can be `box`, `violin`\n",
    "                         hover_data=data.columns,nbins=30, color_discrete_sequence=['green'],\n",
    "                   width=600, height=400)\n",
    "\n",
    "    fig1.update_layout(xaxis_tickformat='.0f')\n",
    "    fig1.update_xaxes(showgrid=True)\n",
    "    fig1.show()\n",
    "\n",
    "    # Plot the probability distribution\n",
    "    import plotly.figure_factory as ff\n",
    "    fig2 = ff.create_distplot([data[name]],group_labels = [name],show_hist=False)\n",
    "    fig2.update_layout(xaxis_tickformat='.0f', yaxis_tickformat='.4f',width=600,height=400)\n",
    "    fig2.update_traces(fill='tozeroy', line_color='#EF553B')\n",
    "    fig2.show()"
   ]
  },
  {
   "cell_type": "code",
   "execution_count": null,
   "metadata": {
    "execution": {
     "iopub.execute_input": "2023-05-20T16:13:51.000741Z",
     "iopub.status.busy": "2023-05-20T16:13:51.000413Z",
     "iopub.status.idle": "2023-05-20T16:13:51.147679Z",
     "shell.execute_reply": "2023-05-20T16:13:51.146534Z",
     "shell.execute_reply.started": "2023-05-20T16:13:51.000714Z"
    },
    "executionInfo": {
     "elapsed": 2136,
     "status": "ok",
     "timestamp": 1684558613081,
     "user": {
      "displayName": "BRYAM BLAS RIMAC",
      "userId": "11285878755326233372"
     },
     "user_tz": 300
    },
    "id": "O2B8EVlkAotE",
    "outputId": "ee939057-5f6e-4111-f808-b338578d5e22"
   },
   "outputs": [],
   "source": [
    "## Price\n",
    "#===============================================\n",
    "hist_dist_plot('Price')"
   ]
  },
  {
   "cell_type": "code",
   "execution_count": null,
   "metadata": {
    "execution": {
     "iopub.execute_input": "2023-05-20T16:13:51.152736Z",
     "iopub.status.busy": "2023-05-20T16:13:51.1523Z",
     "iopub.status.idle": "2023-05-20T16:13:51.296815Z",
     "shell.execute_reply": "2023-05-20T16:13:51.295671Z",
     "shell.execute_reply.started": "2023-05-20T16:13:51.152691Z"
    },
    "executionInfo": {
     "elapsed": 431,
     "status": "ok",
     "timestamp": 1684558632860,
     "user": {
      "displayName": "BRYAM BLAS RIMAC",
      "userId": "11285878755326233372"
     },
     "user_tz": 300
    },
    "id": "YvE9MkEsFKoA",
    "outputId": "6a5a92c4-39db-4b96-e77c-36a738d688c4"
   },
   "outputs": [],
   "source": [
    "## Availability\n",
    "#================================================\n",
    "hist_dist_plot('Availability')"
   ]
  },
  {
   "cell_type": "code",
   "execution_count": null,
   "metadata": {
    "execution": {
     "iopub.execute_input": "2023-05-20T16:13:51.298731Z",
     "iopub.status.busy": "2023-05-20T16:13:51.298344Z",
     "iopub.status.idle": "2023-05-20T16:13:51.435998Z",
     "shell.execute_reply": "2023-05-20T16:13:51.4349Z",
     "shell.execute_reply.started": "2023-05-20T16:13:51.298697Z"
    },
    "executionInfo": {
     "elapsed": 930,
     "status": "ok",
     "timestamp": 1684558644763,
     "user": {
      "displayName": "BRYAM BLAS RIMAC",
      "userId": "11285878755326233372"
     },
     "user_tz": 300
    },
    "id": "8Zwx5BtiFUde",
    "outputId": "ad61d364-41a1-41f0-95d0-d93820ce2db3"
   },
   "outputs": [],
   "source": [
    "## Number_of_products_sold\n",
    "#=================================================\n",
    "hist_dist_plot('Number_of_products_sold')"
   ]
  },
  {
   "cell_type": "code",
   "execution_count": null,
   "metadata": {
    "execution": {
     "iopub.execute_input": "2023-05-20T16:13:51.438395Z",
     "iopub.status.busy": "2023-05-20T16:13:51.43781Z",
     "iopub.status.idle": "2023-05-20T16:13:51.57359Z",
     "shell.execute_reply": "2023-05-20T16:13:51.572604Z",
     "shell.execute_reply.started": "2023-05-20T16:13:51.438362Z"
    },
    "executionInfo": {
     "elapsed": 1012,
     "status": "ok",
     "timestamp": 1684558657276,
     "user": {
      "displayName": "BRYAM BLAS RIMAC",
      "userId": "11285878755326233372"
     },
     "user_tz": 300
    },
    "id": "cVgKT4QXFlne",
    "outputId": "df30029b-0088-45d8-8934-ca1a58df87a4"
   },
   "outputs": [],
   "source": [
    "## Revenue_generated\n",
    "#============================================\n",
    "hist_dist_plot('Revenue_generated')"
   ]
  },
  {
   "cell_type": "code",
   "execution_count": null,
   "metadata": {
    "execution": {
     "iopub.execute_input": "2023-05-20T16:13:51.576493Z",
     "iopub.status.busy": "2023-05-20T16:13:51.57525Z",
     "iopub.status.idle": "2023-05-20T16:13:51.71053Z",
     "shell.execute_reply": "2023-05-20T16:13:51.709394Z",
     "shell.execute_reply.started": "2023-05-20T16:13:51.576421Z"
    },
    "executionInfo": {
     "elapsed": 750,
     "status": "ok",
     "timestamp": 1684558670586,
     "user": {
      "displayName": "BRYAM BLAS RIMAC",
      "userId": "11285878755326233372"
     },
     "user_tz": 300
    },
    "id": "QtBQLJhiFlrx",
    "outputId": "fe351662-602d-4480-89bd-6bf60280d481"
   },
   "outputs": [],
   "source": [
    "## Stock_levels\n",
    "#================================\n",
    "hist_dist_plot('Stock_levels')"
   ]
  },
  {
   "cell_type": "code",
   "execution_count": null,
   "metadata": {
    "execution": {
     "iopub.execute_input": "2023-05-20T16:13:51.712328Z",
     "iopub.status.busy": "2023-05-20T16:13:51.711979Z",
     "iopub.status.idle": "2023-05-20T16:13:51.850047Z",
     "shell.execute_reply": "2023-05-20T16:13:51.848945Z",
     "shell.execute_reply.started": "2023-05-20T16:13:51.712299Z"
    },
    "executionInfo": {
     "elapsed": 507,
     "status": "ok",
     "timestamp": 1684558682921,
     "user": {
      "displayName": "BRYAM BLAS RIMAC",
      "userId": "11285878755326233372"
     },
     "user_tz": 300
    },
    "id": "wUHEugvLFluS",
    "outputId": "402cd4c7-543b-447e-fde3-d776c7f3cfce"
   },
   "outputs": [],
   "source": [
    "## Lead_times\n",
    "#=========================================\n",
    "hist_dist_plot('Lead_times')"
   ]
  },
  {
   "cell_type": "code",
   "execution_count": null,
   "metadata": {
    "execution": {
     "iopub.execute_input": "2023-05-20T16:13:51.85225Z",
     "iopub.status.busy": "2023-05-20T16:13:51.851827Z",
     "iopub.status.idle": "2023-05-20T16:13:51.988836Z",
     "shell.execute_reply": "2023-05-20T16:13:51.987717Z",
     "shell.execute_reply.started": "2023-05-20T16:13:51.852207Z"
    },
    "executionInfo": {
     "elapsed": 16,
     "status": "ok",
     "timestamp": 1684558684969,
     "user": {
      "displayName": "BRYAM BLAS RIMAC",
      "userId": "11285878755326233372"
     },
     "user_tz": 300
    },
    "id": "Z-SIPnexFlxv",
    "outputId": "ac26687b-a98a-4911-b9fc-8bbbbedb8e15"
   },
   "outputs": [],
   "source": [
    "## Order_quantities\n",
    "#============================================\n",
    "hist_dist_plot('Order_quantities')"
   ]
  },
  {
   "cell_type": "code",
   "execution_count": null,
   "metadata": {
    "execution": {
     "iopub.execute_input": "2023-05-20T16:13:51.99113Z",
     "iopub.status.busy": "2023-05-20T16:13:51.99035Z",
     "iopub.status.idle": "2023-05-20T16:13:52.128552Z",
     "shell.execute_reply": "2023-05-20T16:13:52.127478Z",
     "shell.execute_reply.started": "2023-05-20T16:13:51.991084Z"
    },
    "executionInfo": {
     "elapsed": 690,
     "status": "ok",
     "timestamp": 1684558720842,
     "user": {
      "displayName": "BRYAM BLAS RIMAC",
      "userId": "11285878755326233372"
     },
     "user_tz": 300
    },
    "id": "5feNxTPPFl3U",
    "outputId": "9b619c07-cb22-4737-c030-8e74aa80335e"
   },
   "outputs": [],
   "source": [
    "## Shipping_times\n",
    "#========================================\n",
    "hist_dist_plot('Shipping_times')"
   ]
  },
  {
   "cell_type": "code",
   "execution_count": null,
   "metadata": {
    "execution": {
     "iopub.execute_input": "2023-05-20T16:13:52.131186Z",
     "iopub.status.busy": "2023-05-20T16:13:52.130004Z",
     "iopub.status.idle": "2023-05-20T16:13:52.270748Z",
     "shell.execute_reply": "2023-05-20T16:13:52.269692Z",
     "shell.execute_reply.started": "2023-05-20T16:13:52.131142Z"
    },
    "executionInfo": {
     "elapsed": 7,
     "status": "ok",
     "timestamp": 1684558733031,
     "user": {
      "displayName": "BRYAM BLAS RIMAC",
      "userId": "11285878755326233372"
     },
     "user_tz": 300
    },
    "id": "g8NscXk7FmBU",
    "outputId": "86aa266f-0d28-4e37-fdfd-5db692d168b3"
   },
   "outputs": [],
   "source": [
    "## Shipping_costs\n",
    "#=========================================\n",
    "hist_dist_plot('Shipping_costs')"
   ]
  },
  {
   "cell_type": "code",
   "execution_count": null,
   "metadata": {
    "execution": {
     "iopub.execute_input": "2023-05-20T16:13:52.272815Z",
     "iopub.status.busy": "2023-05-20T16:13:52.272049Z",
     "iopub.status.idle": "2023-05-20T16:13:52.412219Z",
     "shell.execute_reply": "2023-05-20T16:13:52.411011Z",
     "shell.execute_reply.started": "2023-05-20T16:13:52.272771Z"
    },
    "executionInfo": {
     "elapsed": 314,
     "status": "ok",
     "timestamp": 1684558743365,
     "user": {
      "displayName": "BRYAM BLAS RIMAC",
      "userId": "11285878755326233372"
     },
     "user_tz": 300
    },
    "id": "ZBYE3LCCFmDH",
    "outputId": "c6c3940d-e2f2-4bd5-e467-40ede62d874b"
   },
   "outputs": [],
   "source": [
    "## Lead_time\n",
    "#==============================================\n",
    "hist_dist_plot('Lead_time')"
   ]
  },
  {
   "cell_type": "code",
   "execution_count": null,
   "metadata": {
    "execution": {
     "iopub.execute_input": "2023-05-20T16:13:52.414274Z",
     "iopub.status.busy": "2023-05-20T16:13:52.413824Z",
     "iopub.status.idle": "2023-05-20T16:13:52.570667Z",
     "shell.execute_reply": "2023-05-20T16:13:52.569527Z",
     "shell.execute_reply.started": "2023-05-20T16:13:52.414233Z"
    },
    "executionInfo": {
     "elapsed": 345,
     "status": "ok",
     "timestamp": 1684558756295,
     "user": {
      "displayName": "BRYAM BLAS RIMAC",
      "userId": "11285878755326233372"
     },
     "user_tz": 300
    },
    "id": "9fFaBbCKGVUJ",
    "outputId": "9808f2b5-c96c-4ef9-9245-88a2889876ea"
   },
   "outputs": [],
   "source": [
    "## Production_volumes\n",
    "#=================================================\n",
    "hist_dist_plot('Production_volumes')"
   ]
  },
  {
   "cell_type": "code",
   "execution_count": null,
   "metadata": {
    "execution": {
     "iopub.execute_input": "2023-05-20T16:13:52.573263Z",
     "iopub.status.busy": "2023-05-20T16:13:52.572234Z",
     "iopub.status.idle": "2023-05-20T16:13:52.708875Z",
     "shell.execute_reply": "2023-05-20T16:13:52.70797Z",
     "shell.execute_reply.started": "2023-05-20T16:13:52.573226Z"
    },
    "executionInfo": {
     "elapsed": 299,
     "status": "ok",
     "timestamp": 1684558768034,
     "user": {
      "displayName": "BRYAM BLAS RIMAC",
      "userId": "11285878755326233372"
     },
     "user_tz": 300
    },
    "id": "HjmjKt8KGaxA",
    "outputId": "6b2e41ad-4763-4d05-aa9f-1c8d9e58c8d0"
   },
   "outputs": [],
   "source": [
    "## Manufacturing_lead_time\n",
    "#===================================================\n",
    "hist_dist_plot('Manufacturing_lead_time')"
   ]
  },
  {
   "cell_type": "code",
   "execution_count": null,
   "metadata": {
    "execution": {
     "iopub.execute_input": "2023-05-20T16:13:52.710734Z",
     "iopub.status.busy": "2023-05-20T16:13:52.710379Z",
     "iopub.status.idle": "2023-05-20T16:13:52.845011Z",
     "shell.execute_reply": "2023-05-20T16:13:52.84416Z",
     "shell.execute_reply.started": "2023-05-20T16:13:52.710704Z"
    },
    "executionInfo": {
     "elapsed": 337,
     "status": "ok",
     "timestamp": 1684558782079,
     "user": {
      "displayName": "BRYAM BLAS RIMAC",
      "userId": "11285878755326233372"
     },
     "user_tz": 300
    },
    "id": "2wLqhJLqGa-3",
    "outputId": "dcf53d04-0f26-4a64-effe-0374342d7b28"
   },
   "outputs": [],
   "source": [
    "## Manufacturing_costs\n",
    "#===============================================\n",
    "hist_dist_plot('Manufacturing_costs')"
   ]
  },
  {
   "cell_type": "code",
   "execution_count": null,
   "metadata": {
    "execution": {
     "iopub.execute_input": "2023-05-20T16:13:52.846341Z",
     "iopub.status.busy": "2023-05-20T16:13:52.84602Z",
     "iopub.status.idle": "2023-05-20T16:13:52.988015Z",
     "shell.execute_reply": "2023-05-20T16:13:52.986955Z",
     "shell.execute_reply.started": "2023-05-20T16:13:52.846311Z"
    },
    "executionInfo": {
     "elapsed": 423,
     "status": "ok",
     "timestamp": 1684558794063,
     "user": {
      "displayName": "BRYAM BLAS RIMAC",
      "userId": "11285878755326233372"
     },
     "user_tz": 300
    },
    "id": "hMJwy_DKGlz_",
    "outputId": "6e42578c-3f88-40d5-cb8e-b5001033192c"
   },
   "outputs": [],
   "source": [
    "## Defect_rates\n",
    "#==========================================\n",
    "hist_dist_plot('Defect_rates')"
   ]
  },
  {
   "cell_type": "markdown",
   "metadata": {
    "id": "AKF2xgy-BAqz"
   },
   "source": [
    "- Categorical variables"
   ]
  },
  {
   "cell_type": "code",
   "execution_count": null,
   "metadata": {
    "execution": {
     "iopub.execute_input": "2023-05-20T16:13:52.990435Z",
     "iopub.status.busy": "2023-05-20T16:13:52.989757Z",
     "iopub.status.idle": "2023-05-20T16:13:52.999679Z",
     "shell.execute_reply": "2023-05-20T16:13:52.998576Z",
     "shell.execute_reply.started": "2023-05-20T16:13:52.990394Z"
    },
    "executionInfo": {
     "elapsed": 281,
     "status": "ok",
     "timestamp": 1684558823804,
     "user": {
      "displayName": "BRYAM BLAS RIMAC",
      "userId": "11285878755326233372"
     },
     "user_tz": 300
    },
    "id": "j475gKRfPI9S"
   },
   "outputs": [],
   "source": [
    "# We create a function to plot our bars for the categorical variables\n",
    "def bar_plot(name:'str'):\n",
    "    import plotly.graph_objs as go\n",
    "\n",
    "\n",
    "\n",
    "    fig = go.Bar(x=data[name].value_counts().index, y=data[name].value_counts().values, \n",
    "                name=name,text=data[name].value_counts().values, \n",
    "                texttemplate='%{y}', textposition='outside')\n",
    "    # Create the figure\n",
    "    figura = go.Figure()\n",
    "\n",
    "    # Add the figure you created to the main figure\n",
    "    figura.add_trace(fig)\n",
    "\n",
    "    # Update the x-axis title\n",
    "    figura.update_xaxes(title= name)\n",
    "\n",
    "    # Update the y-axis title\n",
    "    figura.update_yaxes(title='Count')\n",
    "\n",
    "    # Update the title of the figure and center the title\n",
    "    figura.update_layout(title= name, title_x=0.5)\n",
    "\n",
    "    # Show figure\n",
    "    figura.show()"
   ]
  },
  {
   "cell_type": "code",
   "execution_count": null,
   "metadata": {
    "execution": {
     "iopub.execute_input": "2023-05-20T16:13:53.009862Z",
     "iopub.status.busy": "2023-05-20T16:13:53.009328Z",
     "iopub.status.idle": "2023-05-20T16:13:53.028485Z",
     "shell.execute_reply": "2023-05-20T16:13:53.027235Z",
     "shell.execute_reply.started": "2023-05-20T16:13:53.009826Z"
    },
    "executionInfo": {
     "elapsed": 418,
     "status": "ok",
     "timestamp": 1684558837267,
     "user": {
      "displayName": "BRYAM BLAS RIMAC",
      "userId": "11285878755326233372"
     },
     "user_tz": 300
    },
    "id": "b_MZkG1kHcyP",
    "outputId": "b86f2f9d-a4f9-4f18-dca8-fb74b3a61670"
   },
   "outputs": [],
   "source": [
    "## Product_type\n",
    "#========================================\n",
    "bar_plot('Product_type')"
   ]
  },
  {
   "cell_type": "code",
   "execution_count": null,
   "metadata": {
    "execution": {
     "iopub.execute_input": "2023-05-20T16:13:53.030226Z",
     "iopub.status.busy": "2023-05-20T16:13:53.029889Z",
     "iopub.status.idle": "2023-05-20T16:13:53.052642Z",
     "shell.execute_reply": "2023-05-20T16:13:53.051501Z",
     "shell.execute_reply.started": "2023-05-20T16:13:53.030178Z"
    },
    "executionInfo": {
     "elapsed": 439,
     "status": "ok",
     "timestamp": 1684558851706,
     "user": {
      "displayName": "BRYAM BLAS RIMAC",
      "userId": "11285878755326233372"
     },
     "user_tz": 300
    },
    "id": "TOczMfMTHdBy",
    "outputId": "34f67f2c-2a89-476c-d809-5b3785130d90"
   },
   "outputs": [],
   "source": [
    "## Customer_demographics\n",
    "#==========================================\n",
    "bar_plot('Customer_demographics')"
   ]
  },
  {
   "cell_type": "code",
   "execution_count": null,
   "metadata": {
    "execution": {
     "iopub.execute_input": "2023-05-20T16:13:53.054784Z",
     "iopub.status.busy": "2023-05-20T16:13:53.054322Z",
     "iopub.status.idle": "2023-05-20T16:13:53.073649Z",
     "shell.execute_reply": "2023-05-20T16:13:53.072522Z",
     "shell.execute_reply.started": "2023-05-20T16:13:53.054751Z"
    },
    "executionInfo": {
     "elapsed": 340,
     "status": "ok",
     "timestamp": 1684558863585,
     "user": {
      "displayName": "BRYAM BLAS RIMAC",
      "userId": "11285878755326233372"
     },
     "user_tz": 300
    },
    "id": "MlGNGhj2HdDo",
    "outputId": "a805cd25-6ca3-46a4-ddd0-17f66cb32197"
   },
   "outputs": [],
   "source": [
    "## Shipping_carriers\n",
    "#========================================\n",
    "bar_plot('Shipping_carriers')"
   ]
  },
  {
   "cell_type": "code",
   "execution_count": null,
   "metadata": {
    "execution": {
     "iopub.execute_input": "2023-05-20T16:13:53.07564Z",
     "iopub.status.busy": "2023-05-20T16:13:53.075253Z",
     "iopub.status.idle": "2023-05-20T16:13:53.097555Z",
     "shell.execute_reply": "2023-05-20T16:13:53.096087Z",
     "shell.execute_reply.started": "2023-05-20T16:13:53.075608Z"
    },
    "executionInfo": {
     "elapsed": 310,
     "status": "ok",
     "timestamp": 1684558874540,
     "user": {
      "displayName": "BRYAM BLAS RIMAC",
      "userId": "11285878755326233372"
     },
     "user_tz": 300
    },
    "id": "gAKn4C_aH4TO",
    "outputId": "5a112fef-d1ea-44e9-f46d-6fe78c6a6798"
   },
   "outputs": [],
   "source": [
    "## Supplier_name\n",
    "#====================================\n",
    "bar_plot('Supplier_name')"
   ]
  },
  {
   "cell_type": "code",
   "execution_count": null,
   "metadata": {
    "execution": {
     "iopub.execute_input": "2023-05-20T16:13:53.099668Z",
     "iopub.status.busy": "2023-05-20T16:13:53.099199Z",
     "iopub.status.idle": "2023-05-20T16:13:53.119217Z",
     "shell.execute_reply": "2023-05-20T16:13:53.118092Z",
     "shell.execute_reply.started": "2023-05-20T16:13:53.099625Z"
    },
    "executionInfo": {
     "elapsed": 416,
     "status": "ok",
     "timestamp": 1684558887617,
     "user": {
      "displayName": "BRYAM BLAS RIMAC",
      "userId": "11285878755326233372"
     },
     "user_tz": 300
    },
    "id": "-QuV9oatH4Wh",
    "outputId": "e63f3ffa-a6a3-422f-981e-4c545f866896"
   },
   "outputs": [],
   "source": [
    "## Location\n",
    "#===================================\n",
    "bar_plot('Location')"
   ]
  },
  {
   "cell_type": "code",
   "execution_count": null,
   "metadata": {
    "execution": {
     "iopub.execute_input": "2023-05-20T16:13:53.121009Z",
     "iopub.status.busy": "2023-05-20T16:13:53.120572Z",
     "iopub.status.idle": "2023-05-20T16:13:53.142596Z",
     "shell.execute_reply": "2023-05-20T16:13:53.14144Z",
     "shell.execute_reply.started": "2023-05-20T16:13:53.120967Z"
    },
    "executionInfo": {
     "elapsed": 325,
     "status": "ok",
     "timestamp": 1684558902417,
     "user": {
      "displayName": "BRYAM BLAS RIMAC",
      "userId": "11285878755326233372"
     },
     "user_tz": 300
    },
    "id": "mUse8yZEH_CV",
    "outputId": "87611e6b-d4fa-46eb-a7fe-7d7d86b1db73"
   },
   "outputs": [],
   "source": [
    "## Inspection_results\n",
    "#======================================\n",
    "bar_plot('Inspection_results')"
   ]
  },
  {
   "cell_type": "code",
   "execution_count": null,
   "metadata": {
    "execution": {
     "iopub.execute_input": "2023-05-20T16:13:53.144328Z",
     "iopub.status.busy": "2023-05-20T16:13:53.143891Z",
     "iopub.status.idle": "2023-05-20T16:13:53.165863Z",
     "shell.execute_reply": "2023-05-20T16:13:53.164542Z",
     "shell.execute_reply.started": "2023-05-20T16:13:53.144285Z"
    },
    "executionInfo": {
     "elapsed": 10,
     "status": "ok",
     "timestamp": 1684558913756,
     "user": {
      "displayName": "BRYAM BLAS RIMAC",
      "userId": "11285878755326233372"
     },
     "user_tz": 300
    },
    "id": "aXfWwtWuH_QP",
    "outputId": "4f45f46e-ab08-4b75-a717-fb10bf2a8fe5"
   },
   "outputs": [],
   "source": [
    "## Transportation_modes\n",
    "#============================================\n",
    "bar_plot('Transportation_modes')"
   ]
  },
  {
   "cell_type": "markdown",
   "metadata": {
    "id": "-B02Qyx87Kbh"
   },
   "source": [
    "# **Bivariate Analysis**"
   ]
  },
  {
   "cell_type": "code",
   "execution_count": null,
   "metadata": {
    "execution": {
     "iopub.execute_input": "2023-05-20T16:13:53.168303Z",
     "iopub.status.busy": "2023-05-20T16:13:53.16785Z",
     "iopub.status.idle": "2023-05-20T16:13:53.178688Z",
     "shell.execute_reply": "2023-05-20T16:13:53.177542Z",
     "shell.execute_reply.started": "2023-05-20T16:13:53.16826Z"
    },
    "executionInfo": {
     "elapsed": 359,
     "status": "ok",
     "timestamp": 1684558983089,
     "user": {
      "displayName": "BRYAM BLAS RIMAC",
      "userId": "11285878755326233372"
     },
     "user_tz": 300
    },
    "id": "KMQ2qm2CI0Bf"
   },
   "outputs": [],
   "source": [
    "def bar_plot_bivariate(df, x:str, y:str):\n",
    "    fig = px.bar(df, \n",
    "                x=x,\n",
    "                y=y, \n",
    "                width=500, \n",
    "                height=450, \n",
    "                color=x, \n",
    "                text=y # Specifies the column that contains the values ​​to display\n",
    "    )\n",
    "\n",
    "    fig.update_traces(\n",
    "        texttemplate='%{text:.2s}',  # Text format to display the value (for example, with two decimal places)\n",
    "        textposition='outside'  # Text position (can be 'inside', 'outside', 'auto', among others)\n",
    "    )\n",
    "\n",
    "    fig.update_layout(title= f'{y} by {x}', title_x=0.5)\n",
    "    fig.show()"
   ]
  },
  {
   "cell_type": "code",
   "execution_count": null,
   "metadata": {
    "execution": {
     "iopub.execute_input": "2023-05-20T16:13:53.180844Z",
     "iopub.status.busy": "2023-05-20T16:13:53.180345Z",
     "iopub.status.idle": "2023-05-20T16:13:53.197781Z",
     "shell.execute_reply": "2023-05-20T16:13:53.196618Z",
     "shell.execute_reply.started": "2023-05-20T16:13:53.180801Z"
    },
    "executionInfo": {
     "elapsed": 409,
     "status": "ok",
     "timestamp": 1684558994051,
     "user": {
      "displayName": "BRYAM BLAS RIMAC",
      "userId": "11285878755326233372"
     },
     "user_tz": 300
    },
    "id": "8iiYiBZ9_z9K",
    "outputId": "bf994dd4-5747-4ff7-a641-301b026f10f8"
   },
   "outputs": [],
   "source": [
    "product_revenue = data.groupby(by='Product_type')['Revenue_generated'].sum().to_frame().reset_index().sort_values('Revenue_generated',ascending=False).reset_index(drop=True)\n",
    "product_revenue"
   ]
  },
  {
   "cell_type": "code",
   "execution_count": null,
   "metadata": {
    "execution": {
     "iopub.execute_input": "2023-05-20T16:13:53.199773Z",
     "iopub.status.busy": "2023-05-20T16:13:53.199274Z",
     "iopub.status.idle": "2023-05-20T16:13:53.293511Z",
     "shell.execute_reply": "2023-05-20T16:13:53.292375Z",
     "shell.execute_reply.started": "2023-05-20T16:13:53.199729Z"
    },
    "executionInfo": {
     "elapsed": 508,
     "status": "ok",
     "timestamp": 1684558998225,
     "user": {
      "displayName": "BRYAM BLAS RIMAC",
      "userId": "11285878755326233372"
     },
     "user_tz": 300
    },
    "id": "YVxX4F4dM0QW",
    "outputId": "b283cce8-94a8-4b76-eb6f-0e1e98774c9d"
   },
   "outputs": [],
   "source": [
    "bar_plot_bivariate(product_revenue, 'Product_type', 'Revenue_generated')"
   ]
  },
  {
   "cell_type": "code",
   "execution_count": null,
   "metadata": {
    "execution": {
     "iopub.execute_input": "2023-05-20T16:13:53.294975Z",
     "iopub.status.busy": "2023-05-20T16:13:53.294639Z",
     "iopub.status.idle": "2023-05-20T16:13:53.309578Z",
     "shell.execute_reply": "2023-05-20T16:13:53.308545Z",
     "shell.execute_reply.started": "2023-05-20T16:13:53.294938Z"
    },
    "executionInfo": {
     "elapsed": 310,
     "status": "ok",
     "timestamp": 1684559005824,
     "user": {
      "displayName": "BRYAM BLAS RIMAC",
      "userId": "11285878755326233372"
     },
     "user_tz": 300
    },
    "id": "VOBQ9DPnI8qh",
    "outputId": "99433cf1-6ea9-458a-c46b-9b89e935522a"
   },
   "outputs": [],
   "source": [
    "customer_revenue = data.groupby(by='Customer_demographics')['Revenue_generated'].sum().to_frame().reset_index().sort_values('Revenue_generated',ascending=False)\n",
    "customer_revenue = customer_revenue.reset_index(drop=True)\n",
    "customer_revenue"
   ]
  },
  {
   "cell_type": "code",
   "execution_count": null,
   "metadata": {
    "execution": {
     "iopub.execute_input": "2023-05-20T16:13:53.311795Z",
     "iopub.status.busy": "2023-05-20T16:13:53.31132Z",
     "iopub.status.idle": "2023-05-20T16:13:53.406625Z",
     "shell.execute_reply": "2023-05-20T16:13:53.405515Z",
     "shell.execute_reply.started": "2023-05-20T16:13:53.311751Z"
    },
    "executionInfo": {
     "elapsed": 278,
     "status": "ok",
     "timestamp": 1684559010135,
     "user": {
      "displayName": "BRYAM BLAS RIMAC",
      "userId": "11285878755326233372"
     },
     "user_tz": 300
    },
    "id": "phY5JhG2NWHa",
    "outputId": "3f275cc5-f8d9-42e6-9bb9-209f2d14e0f6"
   },
   "outputs": [],
   "source": [
    "bar_plot_bivariate(customer_revenue, 'Customer_demographics', 'Revenue_generated')"
   ]
  },
  {
   "cell_type": "code",
   "execution_count": null,
   "metadata": {
    "execution": {
     "iopub.execute_input": "2023-05-20T16:13:53.408534Z",
     "iopub.status.busy": "2023-05-20T16:13:53.408094Z",
     "iopub.status.idle": "2023-05-20T16:13:53.422346Z",
     "shell.execute_reply": "2023-05-20T16:13:53.420929Z",
     "shell.execute_reply.started": "2023-05-20T16:13:53.408487Z"
    },
    "executionInfo": {
     "elapsed": 412,
     "status": "ok",
     "timestamp": 1684559015559,
     "user": {
      "displayName": "BRYAM BLAS RIMAC",
      "userId": "11285878755326233372"
     },
     "user_tz": 300
    },
    "id": "ACvSbXWnKtq1",
    "outputId": "6383ff03-f638-42dc-eb04-5218381d5bf8"
   },
   "outputs": [],
   "source": [
    "product_sold = data.groupby('Product_type')['Number_of_products_sold'].sum().to_frame().reset_index().sort_values('Number_of_products_sold',ascending=False).reset_index(drop=True)\n",
    "product_sold"
   ]
  },
  {
   "cell_type": "code",
   "execution_count": null,
   "metadata": {
    "execution": {
     "iopub.execute_input": "2023-05-20T16:13:53.424548Z",
     "iopub.status.busy": "2023-05-20T16:13:53.424169Z",
     "iopub.status.idle": "2023-05-20T16:13:53.515519Z",
     "shell.execute_reply": "2023-05-20T16:13:53.514428Z",
     "shell.execute_reply.started": "2023-05-20T16:13:53.424513Z"
    },
    "executionInfo": {
     "elapsed": 448,
     "status": "ok",
     "timestamp": 1684559019855,
     "user": {
      "displayName": "BRYAM BLAS RIMAC",
      "userId": "11285878755326233372"
     },
     "user_tz": 300
    },
    "id": "lVPOZVF7LdpA",
    "outputId": "27ceb8fe-8029-4543-ae36-4047e43e50a1"
   },
   "outputs": [],
   "source": [
    "bar_plot_bivariate(product_sold, 'Product_type', 'Number_of_products_sold')"
   ]
  },
  {
   "cell_type": "code",
   "execution_count": null,
   "metadata": {
    "execution": {
     "iopub.execute_input": "2023-05-20T16:13:53.517241Z",
     "iopub.status.busy": "2023-05-20T16:13:53.516903Z",
     "iopub.status.idle": "2023-05-20T16:13:53.530633Z",
     "shell.execute_reply": "2023-05-20T16:13:53.529731Z",
     "shell.execute_reply.started": "2023-05-20T16:13:53.517211Z"
    },
    "executionInfo": {
     "elapsed": 275,
     "status": "ok",
     "timestamp": 1684559024179,
     "user": {
      "displayName": "BRYAM BLAS RIMAC",
      "userId": "11285878755326233372"
     },
     "user_tz": 300
    },
    "id": "QC2yF7BpR3tq",
    "outputId": "347fa21e-e534-4ea8-b079-2a473adb5d77"
   },
   "outputs": [],
   "source": [
    "product_order = data.groupby('Product_type')['Order_quantities'].sum().to_frame().reset_index().sort_values('Order_quantities',ascending=False).reset_index(drop=True)\n",
    "product_order"
   ]
  },
  {
   "cell_type": "code",
   "execution_count": null,
   "metadata": {
    "execution": {
     "iopub.execute_input": "2023-05-20T16:13:53.53278Z",
     "iopub.status.busy": "2023-05-20T16:13:53.532074Z",
     "iopub.status.idle": "2023-05-20T16:13:53.635953Z",
     "shell.execute_reply": "2023-05-20T16:13:53.634797Z",
     "shell.execute_reply.started": "2023-05-20T16:13:53.532742Z"
    },
    "executionInfo": {
     "elapsed": 6,
     "status": "ok",
     "timestamp": 1684559027458,
     "user": {
      "displayName": "BRYAM BLAS RIMAC",
      "userId": "11285878755326233372"
     },
     "user_tz": 300
    },
    "id": "-fSkFaVIR37H",
    "outputId": "7cff3b45-0262-4800-9346-c996dead796d"
   },
   "outputs": [],
   "source": [
    "bar_plot_bivariate(product_order, 'Product_type','Order_quantities')"
   ]
  },
  {
   "cell_type": "code",
   "execution_count": null,
   "metadata": {
    "execution": {
     "iopub.execute_input": "2023-05-20T16:13:53.637646Z",
     "iopub.status.busy": "2023-05-20T16:13:53.637197Z",
     "iopub.status.idle": "2023-05-20T16:13:53.654223Z",
     "shell.execute_reply": "2023-05-20T16:13:53.653127Z",
     "shell.execute_reply.started": "2023-05-20T16:13:53.637614Z"
    },
    "executionInfo": {
     "elapsed": 341,
     "status": "ok",
     "timestamp": 1684559032651,
     "user": {
      "displayName": "BRYAM BLAS RIMAC",
      "userId": "11285878755326233372"
     },
     "user_tz": 300
    },
    "id": "YZjP5-mUXhmb",
    "outputId": "9befadcb-63dd-4c81-a5fd-b3e4335afb99"
   },
   "outputs": [],
   "source": [
    "trans_ship_costs = data.groupby('Transportation_modes')['Shipping_costs'].sum().to_frame().reset_index().sort_values('Shipping_costs',ascending=False).reset_index(drop=True)\n",
    "trans_ship_costs"
   ]
  },
  {
   "cell_type": "code",
   "execution_count": null,
   "metadata": {
    "execution": {
     "iopub.execute_input": "2023-05-20T16:13:53.656176Z",
     "iopub.status.busy": "2023-05-20T16:13:53.655714Z",
     "iopub.status.idle": "2023-05-20T16:13:53.749049Z",
     "shell.execute_reply": "2023-05-20T16:13:53.748151Z",
     "shell.execute_reply.started": "2023-05-20T16:13:53.656131Z"
    },
    "executionInfo": {
     "elapsed": 268,
     "status": "ok",
     "timestamp": 1684559041753,
     "user": {
      "displayName": "BRYAM BLAS RIMAC",
      "userId": "11285878755326233372"
     },
     "user_tz": 300
    },
    "id": "dgV_BTWVXhzc",
    "outputId": "9cd90cc9-9049-48f0-e49f-834b64e9b782"
   },
   "outputs": [],
   "source": [
    "bar_plot_bivariate(trans_ship_costs, 'Transportation_modes', 'Shipping_costs')"
   ]
  },
  {
   "cell_type": "code",
   "execution_count": null,
   "metadata": {
    "execution": {
     "iopub.execute_input": "2023-05-20T16:13:53.750832Z",
     "iopub.status.busy": "2023-05-20T16:13:53.750312Z",
     "iopub.status.idle": "2023-05-20T16:13:53.762915Z",
     "shell.execute_reply": "2023-05-20T16:13:53.76188Z",
     "shell.execute_reply.started": "2023-05-20T16:13:53.7508Z"
    },
    "executionInfo": {
     "elapsed": 315,
     "status": "ok",
     "timestamp": 1684559048896,
     "user": {
      "displayName": "BRYAM BLAS RIMAC",
      "userId": "11285878755326233372"
     },
     "user_tz": 300
    },
    "id": "SRmMVjmubdxs",
    "outputId": "95930dec-4e1d-43e6-e66d-68c79f0004fe"
   },
   "outputs": [],
   "source": [
    "product_availability = data.groupby('Product_type')['Availability'].sum().to_frame().reset_index().sort_values('Availability',ascending=False).reset_index(drop=True)\n",
    "product_availability"
   ]
  },
  {
   "cell_type": "code",
   "execution_count": null,
   "metadata": {
    "execution": {
     "iopub.execute_input": "2023-05-20T16:13:53.76478Z",
     "iopub.status.busy": "2023-05-20T16:13:53.764391Z",
     "iopub.status.idle": "2023-05-20T16:13:53.855762Z",
     "shell.execute_reply": "2023-05-20T16:13:53.854536Z",
     "shell.execute_reply.started": "2023-05-20T16:13:53.764748Z"
    },
    "executionInfo": {
     "elapsed": 505,
     "status": "ok",
     "timestamp": 1684559055878,
     "user": {
      "displayName": "BRYAM BLAS RIMAC",
      "userId": "11285878755326233372"
     },
     "user_tz": 300
    },
    "id": "K5RAnDXMcE2r",
    "outputId": "6d241ce1-9d6f-4609-d40a-189951267edd"
   },
   "outputs": [],
   "source": [
    "bar_plot_bivariate(product_availability, 'Product_type', 'Availability')"
   ]
  },
  {
   "cell_type": "code",
   "execution_count": null,
   "metadata": {
    "execution": {
     "iopub.execute_input": "2023-05-20T16:13:53.857897Z",
     "iopub.status.busy": "2023-05-20T16:13:53.857543Z",
     "iopub.status.idle": "2023-05-20T16:13:53.874Z",
     "shell.execute_reply": "2023-05-20T16:13:53.872951Z",
     "shell.execute_reply.started": "2023-05-20T16:13:53.857867Z"
    },
    "executionInfo": {
     "elapsed": 310,
     "status": "ok",
     "timestamp": 1684559063473,
     "user": {
      "displayName": "BRYAM BLAS RIMAC",
      "userId": "11285878755326233372"
     },
     "user_tz": 300
    },
    "id": "2WKz7OkjdFIB",
    "outputId": "241e3c86-98ea-404e-9114-822c71dcd77f"
   },
   "outputs": [],
   "source": [
    "sku_revenue = data.groupby('SKU')['Revenue_generated'].sum().to_frame().reset_index().sort_values('Revenue_generated',ascending=False).reset_index(drop=True)\n",
    "sku_revenue"
   ]
  },
  {
   "cell_type": "code",
   "execution_count": null,
   "metadata": {
    "execution": {
     "iopub.execute_input": "2023-05-20T16:13:53.876104Z",
     "iopub.status.busy": "2023-05-20T16:13:53.875757Z",
     "iopub.status.idle": "2023-05-20T16:13:54.472838Z",
     "shell.execute_reply": "2023-05-20T16:13:54.471732Z",
     "shell.execute_reply.started": "2023-05-20T16:13:53.876074Z"
    },
    "executionInfo": {
     "elapsed": 1945,
     "status": "ok",
     "timestamp": 1684559070035,
     "user": {
      "displayName": "BRYAM BLAS RIMAC",
      "userId": "11285878755326233372"
     },
     "user_tz": 300
    },
    "id": "pE_P205bdoBo",
    "outputId": "659f3a65-ef53-4e82-9af8-f742c235dee0"
   },
   "outputs": [],
   "source": [
    "bar_plot_bivariate(sku_revenue, 'SKU', 'Revenue_generated')"
   ]
  },
  {
   "cell_type": "code",
   "execution_count": null,
   "metadata": {
    "execution": {
     "iopub.execute_input": "2023-05-20T16:13:54.475003Z",
     "iopub.status.busy": "2023-05-20T16:13:54.474275Z",
     "iopub.status.idle": "2023-05-20T16:13:55.29293Z",
     "shell.execute_reply": "2023-05-20T16:13:55.291731Z",
     "shell.execute_reply.started": "2023-05-20T16:13:54.47497Z"
    },
    "executionInfo": {
     "elapsed": 692,
     "status": "ok",
     "timestamp": 1684562547813,
     "user": {
      "displayName": "BRYAM BLAS RIMAC",
      "userId": "11285878755326233372"
     },
     "user_tz": 300
    },
    "id": "r3SI5FUbuG4v",
    "outputId": "6b1baebd-03fc-4ef0-d20e-97cdda78dce3"
   },
   "outputs": [],
   "source": [
    "sku_price = data[['SKU','Price']].sort_values('Price',ascending=False)\n",
    "\n",
    "fig = px.bar(sku_price, x='SKU',y='Price',color='SKU',width=700, height=500)\n",
    "fig.show()"
   ]
  },
  {
   "cell_type": "code",
   "execution_count": null,
   "metadata": {
    "execution": {
     "iopub.execute_input": "2023-05-20T16:13:55.294531Z",
     "iopub.status.busy": "2023-05-20T16:13:55.294192Z",
     "iopub.status.idle": "2023-05-20T16:13:55.310249Z",
     "shell.execute_reply": "2023-05-20T16:13:55.309063Z",
     "shell.execute_reply.started": "2023-05-20T16:13:55.294501Z"
    },
    "executionInfo": {
     "elapsed": 307,
     "status": "ok",
     "timestamp": 1684559079669,
     "user": {
      "displayName": "BRYAM BLAS RIMAC",
      "userId": "11285878755326233372"
     },
     "user_tz": 300
    },
    "id": "woL-hwNsgZ-R",
    "outputId": "6298351b-9034-474f-9056-8268e93d911a"
   },
   "outputs": [],
   "source": [
    "costmanu_product = data.groupby('Product_type')['Manufacturing_costs'].sum().to_frame().reset_index().sort_values('Manufacturing_costs',ascending=False).reset_index(drop=True)\n",
    "costmanu_product"
   ]
  },
  {
   "cell_type": "code",
   "execution_count": null,
   "metadata": {
    "execution": {
     "iopub.execute_input": "2023-05-20T16:13:55.312516Z",
     "iopub.status.busy": "2023-05-20T16:13:55.31208Z",
     "iopub.status.idle": "2023-05-20T16:13:55.400688Z",
     "shell.execute_reply": "2023-05-20T16:13:55.399536Z",
     "shell.execute_reply.started": "2023-05-20T16:13:55.312434Z"
    },
    "executionInfo": {
     "elapsed": 422,
     "status": "ok",
     "timestamp": 1684559083367,
     "user": {
      "displayName": "BRYAM BLAS RIMAC",
      "userId": "11285878755326233372"
     },
     "user_tz": 300
    },
    "id": "MiOnByZngzb9",
    "outputId": "3b8fc6c9-df87-4807-8207-ae2f44665070"
   },
   "outputs": [],
   "source": [
    "bar_plot_bivariate(costmanu_product, 'Product_type', 'Manufacturing_costs')"
   ]
  },
  {
   "cell_type": "code",
   "execution_count": null,
   "metadata": {
    "execution": {
     "iopub.execute_input": "2023-05-20T16:13:55.402687Z",
     "iopub.status.busy": "2023-05-20T16:13:55.402228Z",
     "iopub.status.idle": "2023-05-20T16:13:55.48398Z",
     "shell.execute_reply": "2023-05-20T16:13:55.482772Z",
     "shell.execute_reply.started": "2023-05-20T16:13:55.402645Z"
    },
    "executionInfo": {
     "elapsed": 324,
     "status": "ok",
     "timestamp": 1684559090739,
     "user": {
      "displayName": "BRYAM BLAS RIMAC",
      "userId": "11285878755326233372"
     },
     "user_tz": 300
    },
    "id": "NwxDtcVRsEge",
    "outputId": "6e85d125-2224-4a7e-8647-d857d7c1d807"
   },
   "outputs": [],
   "source": [
    "fig = px.density_heatmap(data, \n",
    "                         x = 'Product_type', \n",
    "                         y='Customer_demographics')\n",
    "\n",
    "fig.update_layout(title= 'Product type by Customer demographics', title_x=0.5, width=600, height=400)\n",
    "fig.show()"
   ]
  },
  {
   "cell_type": "code",
   "execution_count": null,
   "metadata": {
    "execution": {
     "iopub.execute_input": "2023-05-20T16:13:55.485621Z",
     "iopub.status.busy": "2023-05-20T16:13:55.485235Z",
     "iopub.status.idle": "2023-05-20T16:13:55.563915Z",
     "shell.execute_reply": "2023-05-20T16:13:55.562957Z",
     "shell.execute_reply.started": "2023-05-20T16:13:55.485582Z"
    },
    "executionInfo": {
     "elapsed": 315,
     "status": "ok",
     "timestamp": 1684559099614,
     "user": {
      "displayName": "BRYAM BLAS RIMAC",
      "userId": "11285878755326233372"
     },
     "user_tz": 300
    },
    "id": "2yQdhSqvSLjP",
    "outputId": "a90345c1-06d9-4ef4-c1be-ecb29c3e09c2"
   },
   "outputs": [],
   "source": [
    "fig = px.density_heatmap(data, \n",
    "                         x = 'Routes', \n",
    "                         y='Transportation_modes')\n",
    "\n",
    "fig.update_layout(title= 'Routes by Transportation modes', title_x=0.5, width=600, height=400)\n",
    "fig.show()"
   ]
  },
  {
   "cell_type": "code",
   "execution_count": null,
   "metadata": {
    "execution": {
     "iopub.execute_input": "2023-05-20T16:13:55.565534Z",
     "iopub.status.busy": "2023-05-20T16:13:55.565131Z",
     "iopub.status.idle": "2023-05-20T16:13:55.640659Z",
     "shell.execute_reply": "2023-05-20T16:13:55.639534Z",
     "shell.execute_reply.started": "2023-05-20T16:13:55.565505Z"
    },
    "executionInfo": {
     "elapsed": 312,
     "status": "ok",
     "timestamp": 1684559108000,
     "user": {
      "displayName": "BRYAM BLAS RIMAC",
      "userId": "11285878755326233372"
     },
     "user_tz": 300
    },
    "id": "bE_8KhzZYkPO",
    "outputId": "d2bb913e-7592-4d14-87f6-107a5dbbc471"
   },
   "outputs": [],
   "source": [
    "fig = px.density_heatmap(data, \n",
    "                         x = 'Product_type', \n",
    "                         y='Inspection_results')\n",
    "\n",
    "fig.update_layout(title= 'Product type by Inspection results', title_x=0.5, width=600, height=400)\n",
    "fig.show()"
   ]
  },
  {
   "cell_type": "code",
   "execution_count": null,
   "metadata": {
    "execution": {
     "iopub.execute_input": "2023-05-20T16:13:55.642746Z",
     "iopub.status.busy": "2023-05-20T16:13:55.642264Z",
     "iopub.status.idle": "2023-05-20T16:13:55.715784Z",
     "shell.execute_reply": "2023-05-20T16:13:55.71454Z",
     "shell.execute_reply.started": "2023-05-20T16:13:55.642704Z"
    },
    "executionInfo": {
     "elapsed": 413,
     "status": "ok",
     "timestamp": 1684559117471,
     "user": {
      "displayName": "BRYAM BLAS RIMAC",
      "userId": "11285878755326233372"
     },
     "user_tz": 300
    },
    "id": "mMCgv83E3FKk",
    "outputId": "4619ebba-fb81-475f-d3e3-4bebf750c2e2"
   },
   "outputs": [],
   "source": [
    "fig = px.box(data, x = 'Product_type', y = 'Costs', width=500, height=500)\n",
    "fig.update_layout(title= 'Distribution Costs by Product type', title_x=0.5)\n",
    "fig.show()"
   ]
  },
  {
   "cell_type": "markdown",
   "metadata": {
    "id": "b0-d5BIS7NOw"
   },
   "source": [
    "# **Multivariate Analysis**"
   ]
  },
  {
   "cell_type": "code",
   "execution_count": null,
   "metadata": {
    "execution": {
     "iopub.execute_input": "2023-05-20T16:13:55.717399Z",
     "iopub.status.busy": "2023-05-20T16:13:55.71706Z",
     "iopub.status.idle": "2023-05-20T16:13:56.44871Z",
     "shell.execute_reply": "2023-05-20T16:13:56.447551Z",
     "shell.execute_reply.started": "2023-05-20T16:13:55.71737Z"
    },
    "executionInfo": {
     "elapsed": 1940,
     "status": "ok",
     "timestamp": 1684559681479,
     "user": {
      "displayName": "BRYAM BLAS RIMAC",
      "userId": "11285878755326233372"
     },
     "user_tz": 300
    },
    "id": "7zhCLUwh6vC-",
    "outputId": "413940af-dcb9-4321-83d8-b8d7504d9a2d"
   },
   "outputs": [],
   "source": [
    "## Factorial analysis\n",
    "#=========================================================================\n",
    "plt.style.use(\"default\")\n",
    "\n",
    "fig,ax = plt.subplots(figsize=(10,6))\n",
    "# Create a mask to hide the upper triangle\n",
    "corr_matrix = data[continuos_vars].corr()\n",
    "mask = np.triu(np.ones_like(corr_matrix, dtype=bool))\n",
    "\n",
    "ax = sns.heatmap(corr_matrix, \n",
    "            square=True, \n",
    "            linewidths=1, \n",
    "            annot=True, \n",
    "            linecolor='white', \n",
    "            cmap='Blues', \n",
    "            annot_kws={'size':7}, \n",
    "            fmt = '.2f', \n",
    "            mask=mask)\n",
    "ax.set_xticklabels(ax.get_xticklabels(), fontsize=10)\n",
    "plt.show()"
   ]
  },
  {
   "cell_type": "code",
   "execution_count": null,
   "metadata": {
    "execution": {
     "iopub.execute_input": "2023-05-20T16:13:56.450887Z",
     "iopub.status.busy": "2023-05-20T16:13:56.450141Z",
     "iopub.status.idle": "2023-05-20T16:13:56.509931Z",
     "shell.execute_reply": "2023-05-20T16:13:56.508751Z",
     "shell.execute_reply.started": "2023-05-20T16:13:56.450846Z"
    },
    "executionInfo": {
     "elapsed": 308,
     "status": "ok",
     "timestamp": 1684559710686,
     "user": {
      "displayName": "BRYAM BLAS RIMAC",
      "userId": "11285878755326233372"
     },
     "user_tz": 300
    },
    "id": "_gU_hlpPZ5n3",
    "outputId": "3622284e-d3e4-4c67-ef9e-3ccd6f8a2a85"
   },
   "outputs": [],
   "source": [
    "## Descriptive statistics\n",
    "data[continuos_vars].describe().T"
   ]
  },
  {
   "cell_type": "code",
   "execution_count": null,
   "metadata": {
    "execution": {
     "iopub.execute_input": "2023-05-20T16:13:56.512081Z",
     "iopub.status.busy": "2023-05-20T16:13:56.511254Z",
     "iopub.status.idle": "2023-05-20T16:13:56.733039Z",
     "shell.execute_reply": "2023-05-20T16:13:56.732176Z",
     "shell.execute_reply.started": "2023-05-20T16:13:56.512049Z"
    },
    "executionInfo": {
     "elapsed": 756,
     "status": "ok",
     "timestamp": 1684560687914,
     "user": {
      "displayName": "BRYAM BLAS RIMAC",
      "userId": "11285878755326233372"
     },
     "user_tz": 300
    },
    "id": "bexPj1gSwJYd",
    "outputId": "9fc120ca-f3e5-4298-8ee8-38234c54ab45"
   },
   "outputs": [],
   "source": [
    "from sklearn.decomposition import FactorAnalysis\n",
    "from sklearn.preprocessing import StandardScaler\n",
    "# Scaling data\n",
    "X = data[continuos_vars].to_numpy()\n",
    "scaler = StandardScaler()\n",
    "X_scaled = scaler.fit_transform(X)\n",
    "\n",
    "# Create a FactorAnalysis object and fit it to our data\n",
    "fa = FactorAnalysis(n_components=2)\n",
    "fa.fit(X_scaled)\n",
    "\n",
    "# DataFrame for visualization\n",
    "fa_components = pd.DataFrame(fa.components_.T)\n",
    "fa_components.index=continuos_vars\n",
    "\n",
    "# Scatter plot\n",
    "fig = px.scatter(fa_components, x=0, y=1)\n",
    "\n",
    "# Annotate each data point\n",
    "#for i, txt in enumerate(fa_components.index):\n",
    "   #ax.annotate(txt, (fa_components[0].iat[i]+0.05, fa_components[1].iat[i]))\n",
    "\n",
    "# Añadir etiquetas a cada punto de datos\n",
    "for i, txt in enumerate(fa_components.index):\n",
    "    fig.add_annotation(x=fa_components[0].iat[i]+0.00, y=fa_components[1].iat[i], text=txt)\n",
    "\n",
    "fig.show()"
   ]
  },
  {
   "cell_type": "code",
   "execution_count": null,
   "metadata": {
    "execution": {
     "iopub.execute_input": "2023-05-20T16:13:56.734772Z",
     "iopub.status.busy": "2023-05-20T16:13:56.734164Z",
     "iopub.status.idle": "2023-05-20T16:13:56.806889Z",
     "shell.execute_reply": "2023-05-20T16:13:56.805757Z",
     "shell.execute_reply.started": "2023-05-20T16:13:56.734738Z"
    },
    "executionInfo": {
     "elapsed": 8,
     "status": "ok",
     "timestamp": 1684560120563,
     "user": {
      "displayName": "BRYAM BLAS RIMAC",
      "userId": "11285878755326233372"
     },
     "user_tz": 300
    },
    "id": "IFbS5wwmwJff",
    "outputId": "01edfb9e-9fba-4bb7-bada-65150fbe693b"
   },
   "outputs": [],
   "source": [
    "# DataFrame for visualization\n",
    "fa_transformed = pd.DataFrame(fa.transform(X_scaled))\n",
    "\n",
    "# Scatter plot\n",
    "fig = px.scatter(fa_transformed, x=0, y=1, width=500, height=500)\n",
    "\n",
    "fig.show()"
   ]
  },
  {
   "cell_type": "code",
   "execution_count": null,
   "metadata": {
    "execution": {
     "iopub.execute_input": "2023-05-20T16:13:56.808818Z",
     "iopub.status.busy": "2023-05-20T16:13:56.808443Z",
     "iopub.status.idle": "2023-05-20T16:13:56.896708Z",
     "shell.execute_reply": "2023-05-20T16:13:56.895534Z",
     "shell.execute_reply.started": "2023-05-20T16:13:56.808783Z"
    },
    "executionInfo": {
     "elapsed": 294,
     "status": "ok",
     "timestamp": 1684560714576,
     "user": {
      "displayName": "BRYAM BLAS RIMAC",
      "userId": "11285878755326233372"
     },
     "user_tz": 300
    },
    "id": "D79VGGukzERH",
    "outputId": "997521d0-13ac-43c5-9eeb-5f33b773f04f"
   },
   "outputs": [],
   "source": [
    "fig = px.box(data, \n",
    "       x = 'Product_type', \n",
    "       y = 'Revenue_generated', \n",
    "       color = 'Customer_demographics', \n",
    "       width = 800, \n",
    "       height = 500)\n",
    "fig.update_layout(title= 'Product type by Revenue generated by Customer demographics', title_x=0.5)\n",
    "fig.show()"
   ]
  },
  {
   "cell_type": "code",
   "execution_count": null,
   "metadata": {
    "execution": {
     "iopub.execute_input": "2023-05-20T16:13:56.898552Z",
     "iopub.status.busy": "2023-05-20T16:13:56.898177Z",
     "iopub.status.idle": "2023-05-20T16:13:57.0622Z",
     "shell.execute_reply": "2023-05-20T16:13:57.061001Z",
     "shell.execute_reply.started": "2023-05-20T16:13:56.898517Z"
    },
    "executionInfo": {
     "elapsed": 535,
     "status": "ok",
     "timestamp": 1684560720509,
     "user": {
      "displayName": "BRYAM BLAS RIMAC",
      "userId": "11285878755326233372"
     },
     "user_tz": 300
    },
    "id": "-oACVHRS0Con",
    "outputId": "0dffc756-85b3-479d-8216-7fed5ff7650e"
   },
   "outputs": [],
   "source": [
    "fig = px.treemap(data,\n",
    "           path=['Product_type','Customer_demographics','Location'],\n",
    "           values = 'Revenue_generated',\n",
    "           color = 'Number_of_products_sold', \n",
    "           color_continuous_scale='Blues')\n",
    "fig.show()"
   ]
  },
  {
   "cell_type": "code",
   "execution_count": null,
   "metadata": {
    "execution": {
     "iopub.execute_input": "2023-05-20T16:13:57.064274Z",
     "iopub.status.busy": "2023-05-20T16:13:57.063907Z",
     "iopub.status.idle": "2023-05-20T16:13:57.139403Z",
     "shell.execute_reply": "2023-05-20T16:13:57.138629Z",
     "shell.execute_reply.started": "2023-05-20T16:13:57.06424Z"
    },
    "executionInfo": {
     "elapsed": 287,
     "status": "ok",
     "timestamp": 1684560726410,
     "user": {
      "displayName": "BRYAM BLAS RIMAC",
      "userId": "11285878755326233372"
     },
     "user_tz": 300
    },
    "id": "g9cxR7ZRImvQ",
    "outputId": "28f17ad1-89b7-4cc1-826d-7631e406812d"
   },
   "outputs": [],
   "source": [
    "fig = px.density_heatmap(data, \n",
    "                         x = 'Transportation_modes', \n",
    "                         y='Routes', \n",
    "                         z = 'Shipping_costs', \n",
    "                         color_continuous_scale='Blues')\n",
    "\n",
    "fig.update_layout(title= 'Routes by Transportation modes', title_x=0.5, width=600, height=400)\n",
    "fig.show()"
   ]
  },
  {
   "cell_type": "code",
   "execution_count": null,
   "metadata": {
    "execution": {
     "iopub.execute_input": "2023-05-20T16:13:57.141316Z",
     "iopub.status.busy": "2023-05-20T16:13:57.140736Z",
     "iopub.status.idle": "2023-05-20T16:13:57.232602Z",
     "shell.execute_reply": "2023-05-20T16:13:57.231508Z",
     "shell.execute_reply.started": "2023-05-20T16:13:57.141281Z"
    },
    "executionInfo": {
     "elapsed": 383,
     "status": "ok",
     "timestamp": 1684560738402,
     "user": {
      "displayName": "BRYAM BLAS RIMAC",
      "userId": "11285878755326233372"
     },
     "user_tz": 300
    },
    "id": "XUb83N06GJ6w",
    "outputId": "6b9f036b-6d6b-48b5-c85a-7137cba12eec"
   },
   "outputs": [],
   "source": [
    "fig = px.scatter(data, x=\"Production_volumes\", y=\"Manufacturing_costs\",\n",
    "                size=\"Order_quantities\", color=\"Product_type\")\n",
    "fig.show()"
   ]
  },
  {
   "cell_type": "code",
   "execution_count": null,
   "metadata": {
    "execution": {
     "iopub.execute_input": "2023-05-20T16:13:57.234264Z",
     "iopub.status.busy": "2023-05-20T16:13:57.233921Z",
     "iopub.status.idle": "2023-05-20T16:13:57.342051Z",
     "shell.execute_reply": "2023-05-20T16:13:57.341007Z",
     "shell.execute_reply.started": "2023-05-20T16:13:57.234233Z"
    },
    "executionInfo": {
     "elapsed": 574,
     "status": "ok",
     "timestamp": 1684560744393,
     "user": {
      "displayName": "BRYAM BLAS RIMAC",
      "userId": "11285878755326233372"
     },
     "user_tz": 300
    },
    "id": "oV15jIXjPOld",
    "outputId": "89bce299-141b-4409-bf66-284e47af8f97"
   },
   "outputs": [],
   "source": [
    "fig = px.scatter(data, x=\"Production_volumes\", y=\"Manufacturing_costs\",\n",
    "                size=\"Order_quantities\", color=\"Product_type\",facet_col=\"Product_type\")\n",
    "fig.show()"
   ]
  },
  {
   "cell_type": "code",
   "execution_count": null,
   "metadata": {
    "execution": {
     "iopub.execute_input": "2023-05-20T16:13:57.344348Z",
     "iopub.status.busy": "2023-05-20T16:13:57.343899Z",
     "iopub.status.idle": "2023-05-20T16:13:57.506272Z",
     "shell.execute_reply": "2023-05-20T16:13:57.50533Z",
     "shell.execute_reply.started": "2023-05-20T16:13:57.344304Z"
    },
    "executionInfo": {
     "elapsed": 1168,
     "status": "ok",
     "timestamp": 1684560749906,
     "user": {
      "displayName": "BRYAM BLAS RIMAC",
      "userId": "11285878755326233372"
     },
     "user_tz": 300
    },
    "id": "-yLBrWJUVxtu",
    "outputId": "e6c1df76-00f1-4f8f-bf51-99ec85c78604"
   },
   "outputs": [],
   "source": [
    "fig = px.scatter(data, x=\"Costs\", y='Revenue_generated', color=\"Product_type\", marginal_y=\"histogram\",\n",
    "                 marginal_x=\"box\", trendline=\"ols\", template=\"simple_white\")\n",
    "fig.show()"
   ]
  },
  {
   "cell_type": "code",
   "execution_count": null,
   "metadata": {
    "execution": {
     "iopub.execute_input": "2023-05-20T16:13:57.508318Z",
     "iopub.status.busy": "2023-05-20T16:13:57.507978Z",
     "iopub.status.idle": "2023-05-20T16:13:57.59766Z",
     "shell.execute_reply": "2023-05-20T16:13:57.596425Z",
     "shell.execute_reply.started": "2023-05-20T16:13:57.508289Z"
    },
    "executionInfo": {
     "elapsed": 324,
     "status": "ok",
     "timestamp": 1684562831627,
     "user": {
      "displayName": "BRYAM BLAS RIMAC",
      "userId": "11285878755326233372"
     },
     "user_tz": 300
    },
    "id": "9OB5PXfMxJz0",
    "outputId": "239e2d63-64ae-4c11-e3c5-b9cab699915d"
   },
   "outputs": [],
   "source": [
    "sku_price = data[['SKU','Price','Product_type']].sort_values('Price',ascending=False)\n",
    "\n",
    "fig = px.bar(sku_price, x='SKU',y='Price',color='Product_type',width=700, height=500)\n",
    "fig.show()"
   ]
  }
 ],
 "metadata": {
  "kaggle": {
   "accelerator": "none",
   "dataSources": [
    {
     "datasetId": 3169086,
     "sourceId": 5490896,
     "sourceType": "datasetVersion"
    }
   ],
   "dockerImageVersionId": 30474,
   "isGpuEnabled": false,
   "isInternetEnabled": true,
   "language": "python",
   "sourceType": "notebook"
  },
  "kernelspec": {
   "display_name": "Python 3",
   "language": "python",
   "name": "python3"
  },
  "language_info": {
   "codemirror_mode": {
    "name": "ipython",
    "version": 3
   },
   "file_extension": ".py",
   "mimetype": "text/x-python",
   "name": "python",
   "nbconvert_exporter": "python",
   "pygments_lexer": "ipython3",
   "version": "3.6.4"
  }
 },
 "nbformat": 4,
 "nbformat_minor": 4
}
